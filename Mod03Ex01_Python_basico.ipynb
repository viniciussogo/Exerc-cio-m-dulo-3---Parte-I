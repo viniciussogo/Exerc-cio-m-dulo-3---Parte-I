{
  "cells": [
    {
      "cell_type": "markdown",
      "metadata": {
        "id": "view-in-github",
        "colab_type": "text"
      },
      "source": [
        "<a href=\"https://colab.research.google.com/github/viniciussogo/Exerc-cio-m-dulo-3---Parte-I/blob/main/Mod03Ex01_Python_basico.ipynb\" target=\"_parent\"><img src=\"https://colab.research.google.com/assets/colab-badge.svg\" alt=\"Open In Colab\"/></a>"
      ]
    },
    {
      "cell_type": "markdown",
      "metadata": {
        "id": "9p7iENoiEDlN"
      },
      "source": [
        "### 01 - Teste de gravidez\n",
        "Escreva uma célula com controle de fluxos que tem como premissa a existência das seguintes variáveis:\n",
        "\n",
        "- ```sexo``` como ```str``` indicando os valores '**M**' para masculino e '**F**' para feminino  \n",
        "- ```beta_hcg``` que indica a quantidade do beta-HCG no sangue em mUI/mL.\n",
        "\n",
        "A sua tarefa é escrever um código que imprima como resultado \"indivíduo do sexo masculino\" quando sexo = 'M', caso sexo = 'F', se o valor de beta-HCG for maior que 5, retorne \"Positivo\" indicando que a paciente está grávida, e retorne \"Negativo\" caso contrário.\n",
        "\n",
        "Não mexa nos valores da variável ```sexo``` nem em ```beta_hcg```, e escreva um código que funcione para quaisquer valores possíveis de ambos: ```sexo``` = '**M**' ou '**F**' e ```beta_hcg``` assumindo valores inteiros positivos."
      ]
    },
    {
      "cell_type": "code",
      "execution_count": 7,
      "metadata": {
        "colab": {
          "base_uri": "https://localhost:8080/"
        },
        "id": "5HuKB8hTEDlP",
        "outputId": "3644f524-ab1f-4b1d-a7df-3ac9308c5010"
      },
      "outputs": [
        {
          "output_type": "stream",
          "name": "stdout",
          "text": [
            "indivíduo do sexo masculino\n"
          ]
        }
      ],
      "source": [
        "sexo = 'M'\n",
        "beta_hcg = 0\n",
        "\n",
        "# seu código vem abaixo desta linha\n",
        "\n",
        "if sexo == 'M':\n",
        "    print(\"indivíduo do sexo masculino\")\n",
        "else:\n",
        "    if beta_hcg > 5:\n",
        "        print(\"Positivo\")\n",
        "    else:\n",
        "      print(\"Negativo\")\n"
      ]
    },
    {
      "cell_type": "markdown",
      "metadata": {
        "id": "LzurYMwlEDlQ"
      },
      "source": [
        "### 02 - Renomeando variáveis\n",
        "\n",
        "Vamos ver adiante que uma forma de renomear variáveis de um conjunto de dados é através de dicionários - o dicionário deve conter como chave o nome original, associando a cada chave um único valor (tipo *str*) que contenha o nome novo.\n",
        "\n",
        "A sua tarefa é escrever um dicionário que possa ser utilizado para traduzir as variáveis ```name``` (nome), ```age``` (idade) e ```income``` (renda). Ou seja, esse dicionário deve relacionar as chaves *name, age* e *income* às suas respectivas traduções."
      ]
    },
    {
      "cell_type": "code",
      "execution_count": 9,
      "metadata": {
        "colab": {
          "base_uri": "https://localhost:8080/"
        },
        "id": "bLo9oYdlEDlQ",
        "outputId": "49b473ac-694d-4700-e9bc-14c1d9962a0d"
      },
      "outputs": [
        {
          "output_type": "stream",
          "name": "stdout",
          "text": [
            "{'name': 'nome', 'age': 'idade', 'income': 'renda'}\n"
          ]
        }
      ],
      "source": [
        "dic_renomeacao = {'': ''}\n",
        "dic_renomeacao = {\n",
        "    'name': 'nome',\n",
        "    'age': 'idade',\n",
        "    'income': 'renda'\n",
        "}\n",
        "\n",
        "print(dic_renomeacao)"
      ]
    },
    {
      "cell_type": "markdown",
      "metadata": {
        "id": "h-AlcpEyEDlR"
      },
      "source": [
        "### 03 - É divisível?\n",
        "A sua tarefa é escrever um código que indique se um número ```N``` é divisível por um número P. Escreva um programa que faça essa verificação para quaisquer combinações de ```N``` e ```M``` e devolva uma mensagem indicativa no output."
      ]
    },
    {
      "cell_type": "code",
      "execution_count": 16,
      "metadata": {
        "colab": {
          "base_uri": "https://localhost:8080/"
        },
        "id": "cx32M_-1EDlR",
        "outputId": "02610ac3-ecdf-408d-ab5d-1841a576ba88"
      },
      "outputs": [
        {
          "output_type": "stream",
          "name": "stdout",
          "text": [
            "42 não é divisível por 7.\n"
          ]
        }
      ],
      "source": [
        "N = 42\n",
        "M = 7\n",
        "\n",
        "#Seu código\n",
        "\n",
        "if N / M == int:\n",
        "    print(f\"{N} é divisível por {M}.\")\n",
        "else:\n",
        "    print(f\"{N} não é divisível por {M}.\")\n"
      ]
    },
    {
      "cell_type": "markdown",
      "metadata": {
        "id": "MN8C10q0EDlR"
      },
      "source": [
        "### 04 - Números primos\n",
        "> Um número **N** é primo se e somente se é divisível por 1, -1, por **N** e por -**N**.  \n",
        "\n",
        "Escreva um script que verifica se ```N``` é um número primo, verificando se ```N``` é divisível por todos os números de ```1``` a ```N-1```. Você vai precisar usar alguma ferramenta de *loop* que você aprendeu para isto. No final, devolva uma mensagem no output indicando se o número é primo ou não."
      ]
    },
    {
      "cell_type": "code",
      "execution_count": 33,
      "metadata": {
        "colab": {
          "base_uri": "https://localhost:8080/"
        },
        "id": "Lo1CnJMbEDlS",
        "outputId": "b9b40e3a-4c9c-45b2-f253-7a72a3993046"
      },
      "outputs": [
        {
          "output_type": "stream",
          "name": "stdout",
          "text": [
            "47 é um número primo.\n"
          ]
        }
      ],
      "source": [
        "N = 47\n",
        "\n",
        "# seu código abaixo\n",
        "\n",
        "eh_primo = True\n",
        "\n",
        "for i in range(2,N):\n",
        "        if N % i == 0:\n",
        "            eh_primo = False\n",
        "if eh_primo:\n",
        "        print(f\"{N} é um número primo.\")\n",
        "else:\n",
        "        print(f\"{N} não é um número primo.\")"
      ]
    },
    {
      "cell_type": "markdown",
      "metadata": {
        "id": "FeajyFNlEDlS"
      },
      "source": [
        "### 05 - Desafio\n",
        "O algorítmo do exercício anterior não é o mais eficiente. O que você pode fazer para deixá-lo mais eficiente? Ou seja, executar menos comparações, portanto consumir menos tempo.\n",
        "1. Será que precisamos correr o loop até o final sempre?\n",
        "2. Será que precisamos mesmo verificar **todos** os números?\n",
        "3. Será que precisamos ir até N-1?\n",
        "\n",
        "Essas perguntas levam ao tipo de pensamento voltado a deixar um algoritmo mais eficiente. Veja se você consegue melhorar o seu."
      ]
    },
    {
      "cell_type": "code",
      "execution_count": 39,
      "metadata": {
        "colab": {
          "base_uri": "https://localhost:8080/"
        },
        "id": "4XZB-hiuEDlS",
        "outputId": "ba7575f0-e8a0-4b1a-ef88-b26f4dfca51d"
      },
      "outputs": [
        {
          "output_type": "stream",
          "name": "stdout",
          "text": [
            "98 não é um número primo.\n"
          ]
        }
      ],
      "source": [
        "N = 98\n",
        "\n",
        "# seu código aqui\n",
        "\n",
        "if N < 2:\n",
        "    print(f\"{N} não é um número primo.\")\n",
        "elif N == 2:\n",
        "    print(f\"{N} é um número primo.\")\n",
        "elif N % 2 == 0:\n",
        "    print(f\"{N} não é um número primo.\")\n",
        "else:\n",
        "    for i in range(2,N):\n",
        "        if N % i == 0:\n",
        "            eh_primo = False\n",
        "\n",
        "    if eh_primo:\n",
        "        print(f\"{N} é um número primo.\")\n",
        "    else:\n",
        "        print(f\"{N} não é um número primo.\")\n",
        "\n"
      ]
    },
    {
      "cell_type": "markdown",
      "metadata": {
        "id": "JypuFIhpEDlS"
      },
      "source": [
        "### 06 - Peso ideal 1\n",
        "O IMC (índice de massa corpórea) é um indicador de saúde mais bem aceito que o peso. Ele é calculado como:\n",
        "\n",
        "$$ IMC = \\dfrac{peso}{altura^2}$$\n",
        "\n",
        "Segundo a OMS, valores *normais* são entre 18.5 e 24.9.\n",
        "\n",
        "Sua tarefa é encontrar o ponto médio dessa faixa."
      ]
    },
    {
      "cell_type": "code",
      "execution_count": 40,
      "metadata": {
        "colab": {
          "base_uri": "https://localhost:8080/"
        },
        "id": "zstx35uvEDlT",
        "outputId": "0da41218-ccc8-4c59-c2d4-a24d6762a5a0"
      },
      "outputs": [
        {
          "output_type": "execute_result",
          "data": {
            "text/plain": [
              "21.7"
            ]
          },
          "metadata": {},
          "execution_count": 40
        }
      ],
      "source": [
        "imc_ideal = (18.5+24.9)/2\n",
        "imc_ideal"
      ]
    },
    {
      "cell_type": "markdown",
      "metadata": {
        "id": "4qr-6O3tEDlT"
      },
      "source": [
        "### 07 - Peso ideal 2\n",
        "Recebendo um valor de altura, encontre o peso '*ideal*' dessa pessoa, que fornece o IMC encontrado acima"
      ]
    },
    {
      "cell_type": "code",
      "execution_count": 42,
      "metadata": {
        "colab": {
          "base_uri": "https://localhost:8080/"
        },
        "id": "skqkWO9zEDlT",
        "outputId": "d44b1105-4c0b-4bb8-d9e4-d204f5b388e4"
      },
      "outputs": [
        {
          "output_type": "execute_result",
          "data": {
            "text/plain": [
              "62.712999999999994"
            ]
          },
          "metadata": {},
          "execution_count": 42
        }
      ],
      "source": [
        "altura = 1.70\n",
        "\n",
        "# Seu código\n",
        "peso_ideal = (altura*altura)*imc_ideal\n",
        "peso_ideal"
      ]
    },
    {
      "cell_type": "markdown",
      "metadata": {
        "id": "jSEQ5W2GEDlT"
      },
      "source": [
        "### 08 - Peso ideal 3\n",
        "Dada uma lista contendo as alturas de pacientes, crie uma nova lista que contenha o peso '*ideal*' (que fornece o IMC calculado em **Peso ideal 1**) desses pacientes."
      ]
    },
    {
      "cell_type": "code",
      "execution_count": 44,
      "metadata": {
        "colab": {
          "base_uri": "https://localhost:8080/"
        },
        "id": "8ZQnYj4vEDlU",
        "outputId": "fec9f0d2-2a13-49cd-ab6e-5513ee23e9db"
      },
      "outputs": [
        {
          "output_type": "execute_result",
          "data": {
            "text/plain": [
              "[82.51424999999999, 91.19425, 62.712999999999994, 59.07824999999999]"
            ]
          },
          "metadata": {},
          "execution_count": 44
        }
      ],
      "source": [
        "lista_alturas = [1.95, 2.05, 1.70, 1.65]\n",
        "\n",
        "lista_peso_ideal = []\n",
        "\n",
        "# seu código\n",
        "for i in lista_alturas:\n",
        "  pesos_ideais = imc_ideal*(i*i)\n",
        "  lista_peso_ideal.append(pesos_ideais)\n",
        "\n",
        "lista_peso_ideal"
      ]
    },
    {
      "cell_type": "markdown",
      "metadata": {
        "id": "ggsFh_UVEDlU"
      },
      "source": [
        "### 09 - Peso ideal 4\n",
        "Dada uma lista de tuplas - cada elemento da lista é uma tupla contendo altura e peso de um paciente - crie uma nova lista com o IMC desses pacientes."
      ]
    },
    {
      "cell_type": "code",
      "execution_count": 47,
      "metadata": {
        "colab": {
          "base_uri": "https://localhost:8080/"
        },
        "id": "LFq9E2pBEDlU",
        "outputId": "0a559e89-a46a-44bf-826d-ad53e9565021"
      },
      "outputs": [
        {
          "output_type": "stream",
          "name": "stdout",
          "text": [
            "[27.777777777777775, 27.548209366391188, 19.188070502453332]\n"
          ]
        }
      ],
      "source": [
        "altura_peso = [(1.80, 90), (1.65, 75), (1.91, 70)]\n",
        "\n",
        "imc = []\n",
        "\n",
        "# seu código\n",
        "\n",
        "for altura, peso in altura_peso:\n",
        "    valor_imc = peso / (altura * altura)\n",
        "    imc.append(valor_imc)\n",
        "\n",
        "print(imc)"
      ]
    },
    {
      "cell_type": "markdown",
      "metadata": {
        "id": "4VTKFrnLEDlU"
      },
      "source": [
        "### 10 - Peso ideal 5\n",
        "Dada uma lista de **listas** - cada elemento da lista é uma **lista** contendo altura e peso de um paciente, adicione mais um elemento à lista de cada paciente contendo o IMC do paciente. Verifique também se é 'baixo', 'normal' ou 'alto' segundo os padrões da OMS em que normal é entre 18.5 e 24.9.\n",
        "\n",
        "Reflexão: por que no problema anterior temos que criar uma nova lista, e não podemos adicionar os dados de cada indivíduo à tupla?"
      ]
    },
    {
      "cell_type": "code",
      "execution_count": 49,
      "metadata": {
        "colab": {
          "base_uri": "https://localhost:8080/"
        },
        "id": "lO8LfMNgEDlU",
        "outputId": "c427722c-fdf0-49df-bb93-c58a2820fe74"
      },
      "outputs": [
        {
          "output_type": "execute_result",
          "data": {
            "text/plain": [
              "[[1.8, 90, 27.777777777777775, 'alto'],\n",
              " [1.65, 75, 27.548209366391188, 'alto'],\n",
              " [1.91, 70, 19.188070502453332, 'normal']]"
            ]
          },
          "metadata": {},
          "execution_count": 49
        }
      ],
      "source": [
        "altura_peso = [[1.80, 90], [1.65, 75], [1.91, 70]]\n",
        "\n",
        "# seu código\n",
        "for paciente in altura_peso:\n",
        "    altura = paciente[0]\n",
        "    peso = paciente[1]\n",
        "\n",
        "    # Calcular o IMC\n",
        "    imc = peso / (altura * altura)\n",
        "\n",
        "    # Classificação do IMC segundo a OMS\n",
        "    if imc < 18.5:\n",
        "        classificacao = 'baixo'\n",
        "    elif 18.5 <= imc <= 24.9:\n",
        "        classificacao = 'normal'\n",
        "    else:\n",
        "        classificacao = 'alto'\n",
        "\n",
        "    # Adicionar o IMC e a classificação à lista do paciente\n",
        "    paciente.append(imc)\n",
        "    paciente.append(classificacao)\n",
        "\n",
        "altura_peso"
      ]
    }
  ],
  "metadata": {
    "kernelspec": {
      "display_name": "Python 3",
      "language": "python",
      "name": "python3"
    },
    "language_info": {
      "codemirror_mode": {
        "name": "ipython",
        "version": 3
      },
      "file_extension": ".py",
      "mimetype": "text/x-python",
      "name": "python",
      "nbconvert_exporter": "python",
      "pygments_lexer": "ipython3",
      "version": "3.8.5"
    },
    "colab": {
      "provenance": [],
      "include_colab_link": true
    }
  },
  "nbformat": 4,
  "nbformat_minor": 0
}